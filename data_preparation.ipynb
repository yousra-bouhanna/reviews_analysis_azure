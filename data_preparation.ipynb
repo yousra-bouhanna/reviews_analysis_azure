{
 "cells": [
  {
   "cell_type": "markdown",
   "metadata": {},
   "source": [
    "# **Data preparation for cloud computing projet**"
   ]
  },
  {
   "cell_type": "markdown",
   "metadata": {},
   "source": [
    "\n",
    "## **Purpose of this Notebook:**\n",
    "\n",
    "This notebook aims to prepare the dataset containing Amazon reviews for a cloud computing project focused on sentiment analysis using Azure services.\n",
    "\n",
    "## **Project Overview:**\n",
    "The goal of this project is to analyze Amazon reviews stored in a CSV file and leverage Azure services to extract sentiment insights. The analyzed data will be stored and visualized using Azure and Power BI."
   ]
  },
  {
   "cell_type": "code",
   "execution_count": 1,
   "metadata": {},
   "outputs": [],
   "source": [
    "import pandas as pd \n",
    "\n",
    "#Reading the csv file imported from Kaggle\n",
    "df = pd.read_csv('test.csv')"
   ]
  },
  {
   "cell_type": "code",
   "execution_count": 2,
   "metadata": {},
   "outputs": [
    {
     "name": "stdout",
     "output_type": "stream",
     "text": [
      "<class 'pandas.core.frame.DataFrame'>\n",
      "RangeIndex: 399999 entries, 0 to 399998\n",
      "Data columns (total 3 columns):\n",
      " #   Column                                                                                                                                                                                                                                                                                                                                                                                                                                                                                                                                       Non-Null Count   Dtype \n",
      "---  ------                                                                                                                                                                                                                                                                                                                                                                                                                                                                                                                                       --------------   ----- \n",
      " 0   2                                                                                                                                                                                                                                                                                                                                                                                                                                                                                                                                            399999 non-null  int64 \n",
      " 1   Great CD                                                                                                                                                                                                                                                                                                                                                                                                                                                                                                                                     399975 non-null  object\n",
      " 2   My lovely Pat has one of the GREAT voices of her generation. I have listened to this CD for YEARS and I still LOVE IT. When I'm in a good mood it makes me feel better. A bad mood just evaporates like sugar in the rain. This CD just oozes LIFE. Vocals are jusat STUUNNING and lyrics just kill. One of life's hidden gems. This is a desert isle CD in my book. Why she never made it big is just beyond me. Everytime I play this, no matter black, white, young, old, male, female EVERYBODY says one thing \"Who was that singing ?\"  399999 non-null  object\n",
      "dtypes: int64(1), object(2)\n",
      "memory usage: 9.2+ MB\n"
     ]
    }
   ],
   "source": [
    "df.info()"
   ]
  },
  {
   "cell_type": "code",
   "execution_count": 3,
   "metadata": {},
   "outputs": [
    {
     "data": {
      "text/plain": [
       "(399999, 3)"
      ]
     },
     "execution_count": 3,
     "metadata": {},
     "output_type": "execute_result"
    }
   ],
   "source": [
    "df.shape"
   ]
  },
  {
   "cell_type": "code",
   "execution_count": 4,
   "metadata": {},
   "outputs": [
    {
     "data": {
      "text/html": [
       "<div>\n",
       "<style scoped>\n",
       "    .dataframe tbody tr th:only-of-type {\n",
       "        vertical-align: middle;\n",
       "    }\n",
       "\n",
       "    .dataframe tbody tr th {\n",
       "        vertical-align: top;\n",
       "    }\n",
       "\n",
       "    .dataframe thead th {\n",
       "        text-align: right;\n",
       "    }\n",
       "</style>\n",
       "<table border=\"1\" class=\"dataframe\">\n",
       "  <thead>\n",
       "    <tr style=\"text-align: right;\">\n",
       "      <th></th>\n",
       "      <th>2</th>\n",
       "      <th>Great CD</th>\n",
       "      <th>My lovely Pat has one of the GREAT voices of her generation. I have listened to this CD for YEARS and I still LOVE IT. When I'm in a good mood it makes me feel better. A bad mood just evaporates like sugar in the rain. This CD just oozes LIFE. Vocals are jusat STUUNNING and lyrics just kill. One of life's hidden gems. This is a desert isle CD in my book. Why she never made it big is just beyond me. Everytime I play this, no matter black, white, young, old, male, female EVERYBODY says one thing \"Who was that singing ?\"</th>\n",
       "    </tr>\n",
       "  </thead>\n",
       "  <tbody>\n",
       "    <tr>\n",
       "      <th>0</th>\n",
       "      <td>2</td>\n",
       "      <td>One of the best game music soundtracks - for a...</td>\n",
       "      <td>Despite the fact that I have only played a sma...</td>\n",
       "    </tr>\n",
       "    <tr>\n",
       "      <th>1</th>\n",
       "      <td>1</td>\n",
       "      <td>Batteries died within a year ...</td>\n",
       "      <td>I bought this charger in Jul 2003 and it worke...</td>\n",
       "    </tr>\n",
       "    <tr>\n",
       "      <th>2</th>\n",
       "      <td>2</td>\n",
       "      <td>works fine, but Maha Energy is better</td>\n",
       "      <td>Check out Maha Energy's website. Their Powerex...</td>\n",
       "    </tr>\n",
       "    <tr>\n",
       "      <th>3</th>\n",
       "      <td>2</td>\n",
       "      <td>Great for the non-audiophile</td>\n",
       "      <td>Reviewed quite a bit of the combo players and ...</td>\n",
       "    </tr>\n",
       "    <tr>\n",
       "      <th>4</th>\n",
       "      <td>1</td>\n",
       "      <td>DVD Player crapped out after one year</td>\n",
       "      <td>I also began having the incorrect disc problem...</td>\n",
       "    </tr>\n",
       "  </tbody>\n",
       "</table>\n",
       "</div>"
      ],
      "text/plain": [
       "   2                                           Great CD  \\\n",
       "0  2  One of the best game music soundtracks - for a...   \n",
       "1  1                   Batteries died within a year ...   \n",
       "2  2              works fine, but Maha Energy is better   \n",
       "3  2                       Great for the non-audiophile   \n",
       "4  1              DVD Player crapped out after one year   \n",
       "\n",
       "  My lovely Pat has one of the GREAT voices of her generation. I have listened to this CD for YEARS and I still LOVE IT. When I'm in a good mood it makes me feel better. A bad mood just evaporates like sugar in the rain. This CD just oozes LIFE. Vocals are jusat STUUNNING and lyrics just kill. One of life's hidden gems. This is a desert isle CD in my book. Why she never made it big is just beyond me. Everytime I play this, no matter black, white, young, old, male, female EVERYBODY says one thing \"Who was that singing ?\"  \n",
       "0  Despite the fact that I have only played a sma...                                                                                                                                                                                                                                                                                                                                                                                                                                                                                           \n",
       "1  I bought this charger in Jul 2003 and it worke...                                                                                                                                                                                                                                                                                                                                                                                                                                                                                           \n",
       "2  Check out Maha Energy's website. Their Powerex...                                                                                                                                                                                                                                                                                                                                                                                                                                                                                           \n",
       "3  Reviewed quite a bit of the combo players and ...                                                                                                                                                                                                                                                                                                                                                                                                                                                                                           \n",
       "4  I also began having the incorrect disc problem...                                                                                                                                                                                                                                                                                                                                                                                                                                                                                           "
      ]
     },
     "execution_count": 4,
     "metadata": {},
     "output_type": "execute_result"
    }
   ],
   "source": [
    "df.head()"
   ]
  },
  {
   "cell_type": "code",
   "execution_count": 5,
   "metadata": {},
   "outputs": [
    {
     "name": "stdout",
     "output_type": "stream",
     "text": [
      "Index(['2', 'Great CD',\n",
      "       'My lovely Pat has one of the GREAT voices of her generation. I have listened to this CD for YEARS and I still LOVE IT. When I'm in a good mood it makes me feel better. A bad mood just evaporates like sugar in the rain. This CD just oozes LIFE. Vocals are jusat STUUNNING and lyrics just kill. One of life's hidden gems. This is a desert isle CD in my book. Why she never made it big is just beyond me. Everytime I play this, no matter black, white, young, old, male, female EVERYBODY says one thing \"Who was that singing ?\"'],\n",
      "      dtype='object')\n",
      "3\n"
     ]
    }
   ],
   "source": [
    "print(df.columns)\n",
    "print(len(df.columns))"
   ]
  },
  {
   "cell_type": "code",
   "execution_count": 6,
   "metadata": {},
   "outputs": [
    {
     "name": "stdout",
     "output_type": "stream",
     "text": [
      "Index(['2', 'Great CD',\n",
      "       'My lovely Pat has one of the GREAT voices of her generation. I have listened to this CD for YEARS and I still LOVE IT. When I'm in a good mood it makes me feel better. A bad mood just evaporates like sugar in the rain. This CD just oozes LIFE. Vocals are jusat STUUNNING and lyrics just kill. One of life's hidden gems. This is a desert isle CD in my book. Why she never made it big is just beyond me. Everytime I play this, no matter black, white, young, old, male, female EVERYBODY says one thing \"Who was that singing ?\"'],\n",
      "      dtype='object')\n",
      "Index(['label', 'title', 'text'], dtype='object')\n",
      "                                               title  \\\n",
      "0  One of the best game music soundtracks - for a...   \n",
      "1                   Batteries died within a year ...   \n",
      "2              works fine, but Maha Energy is better   \n",
      "3                       Great for the non-audiophile   \n",
      "4              DVD Player crapped out after one year   \n",
      "\n",
      "                                                text  label  \n",
      "0  Despite the fact that I have only played a sma...      2  \n",
      "1  I bought this charger in Jul 2003 and it worke...      1  \n",
      "2  Check out Maha Energy's website. Their Powerex...      2  \n",
      "3  Reviewed quite a bit of the combo players and ...      2  \n",
      "4  I also began having the incorrect disc problem...      1  \n",
      "(1000, 3)\n",
      "Index(['title', 'text', 'label'], dtype='object')\n"
     ]
    }
   ],
   "source": [
    "# I want to use this dataset as a source for my data analysis project.\n",
    "# The dataset is very voluminous, it contains almost 400k rows \n",
    "# I will use the first 1000 rows and keep the same columns \n",
    "# I will save this new dataset as a new csv file with two versions, one with labels named data_with_labels.csv\n",
    "# and one without labels named data_without_labels.csv\n",
    "# my datasets will have 3 columns\n",
    "# the first column will be named title that corresponds to the second column of the original dataset\n",
    "# the second column will be named text that corresponds to the third column of the original dataset\n",
    "# the third column will be named label that corresponds to the first column of the original dataset\n",
    "\n",
    "print(df.columns)\n",
    "\n",
    "# Renaming the columns based on the actual column names in the dataset\n",
    "df = df.rename(columns={\n",
    "    df.columns[1]: 'title',\n",
    "    df.columns[2]: 'text',\n",
    "    df.columns[0]: 'label'\n",
    "})\n",
    "\n",
    "print(df.columns)\n",
    "\n",
    "# Selecting the first 1000 rows\n",
    "data_with_labels= df.iloc[:1000]\n",
    "\n",
    "#rearranging the columns\n",
    "data_with_labels = data_with_labels[['title', 'text', 'label']]\n",
    "\n",
    "# Saving the new dataset to a CSV file\n",
    "data_with_labels.to_csv('data_with_labels.csv', index=False)\n",
    "\n",
    "print(data_with_labels.head())\n",
    "\n",
    "print(data_with_labels.shape)\n",
    "\n",
    "print(data_with_labels.columns)"
   ]
  },
  {
   "cell_type": "code",
   "execution_count": 7,
   "metadata": {},
   "outputs": [
    {
     "name": "stdout",
     "output_type": "stream",
     "text": [
      "title    1\n",
      "text     0\n",
      "label    0\n",
      "dtype: int64\n",
      "title    0\n",
      "text     0\n",
      "label    0\n",
      "dtype: int64\n"
     ]
    }
   ],
   "source": [
    "#Making sure that there are no missing values in the dataset\n",
    "print(data_with_labels.isnull().sum())\n",
    "\n",
    "#dropping the missing values\n",
    "data_with_labels = data_with_labels.dropna()\n",
    "\n",
    "#Making sure that there are no missing values in the dataset\n",
    "print(data_with_labels.isnull().sum())\n"
   ]
  },
  {
   "cell_type": "code",
   "execution_count": 8,
   "metadata": {},
   "outputs": [
    {
     "name": "stdout",
     "output_type": "stream",
     "text": [
      "0\n"
     ]
    }
   ],
   "source": [
    "#making sure that there are no duplicates in the dataset\n",
    "print(data_with_labels.duplicated().sum())"
   ]
  },
  {
   "cell_type": "code",
   "execution_count": 9,
   "metadata": {},
   "outputs": [
    {
     "name": "stdout",
     "output_type": "stream",
     "text": [
      "                                               title  \\\n",
      "0  One of the best game music soundtracks - for a...   \n",
      "1                   Batteries died within a year ...   \n",
      "2              works fine, but Maha Energy is better   \n",
      "3                       Great for the non-audiophile   \n",
      "4              DVD Player crapped out after one year   \n",
      "\n",
      "                                                text  \n",
      "0  Despite the fact that I have only played a sma...  \n",
      "1  I bought this charger in Jul 2003 and it worke...  \n",
      "2  Check out Maha Energy's website. Their Powerex...  \n",
      "3  Reviewed quite a bit of the combo players and ...  \n",
      "4  I also began having the incorrect disc problem...  \n"
     ]
    }
   ],
   "source": [
    "#Creating the dataset without labels\n",
    "data_without_labels = data_with_labels.drop('label', axis=1)\n",
    "\n",
    "# Saving the new dataset to a CSV file\n",
    "data_without_labels.to_csv('data_without_labels.csv', index=False)\n",
    "\n",
    "print(data_without_labels.head())"
   ]
  },
  {
   "cell_type": "markdown",
   "metadata": {},
   "source": [
    "**NOW MY DATA IS READY**"
   ]
  }
 ],
 "metadata": {
  "kernelspec": {
   "display_name": "base",
   "language": "python",
   "name": "python3"
  },
  "language_info": {
   "codemirror_mode": {
    "name": "ipython",
    "version": 3
   },
   "file_extension": ".py",
   "mimetype": "text/x-python",
   "name": "python",
   "nbconvert_exporter": "python",
   "pygments_lexer": "ipython3",
   "version": "3.11.7"
  }
 },
 "nbformat": 4,
 "nbformat_minor": 2
}
